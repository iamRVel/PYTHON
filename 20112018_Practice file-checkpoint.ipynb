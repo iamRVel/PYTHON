{
 "cells": [
  {
   "cell_type": "code",
   "execution_count": 4,
   "metadata": {},
   "outputs": [
    {
     "name": "stdout",
     "output_type": "stream",
     "text": [
      "This is always printed\n"
     ]
    }
   ],
   "source": [
    "num = 3\n",
    "if num > 3:\n",
    "    print (num,'is a negative number.')\n",
    "print ('This is always printed')"
   ]
  },
  {
   "cell_type": "code",
   "execution_count": 3,
   "metadata": {},
   "outputs": [
    {
     "name": "stdout",
     "output_type": "stream",
     "text": [
      "-1 is a positive number.\n",
      "This is also always printed\n"
     ]
    }
   ],
   "source": [
    "num = -1 \n",
    "if num < 0:\n",
    "    print (num, 'is a positive number.')\n",
    "print ('This is also always printed')"
   ]
  },
  {
   "cell_type": "code",
   "execution_count": 5,
   "metadata": {},
   "outputs": [],
   "source": [
    "num = 3"
   ]
  },
  {
   "cell_type": "code",
   "execution_count": 9,
   "metadata": {},
   "outputs": [
    {
     "name": "stdout",
     "output_type": "stream",
     "text": [
      "positive number\n"
     ]
    }
   ],
   "source": [
    "num1 = 7\n",
    "num1 = 0\n",
    "\n",
    "if num <= 0:\n",
    "    print('Positive or Zero')\n",
    "else:\n",
    "    print('positive number')"
   ]
  },
  {
   "cell_type": "code",
   "execution_count": 22,
   "metadata": {},
   "outputs": [
    {
     "name": "stdout",
     "output_type": "stream",
     "text": [
      "positive number\n"
     ]
    }
   ],
   "source": [
    "num = 7\n",
    "if num == 7:\n",
    "    print('positive number')\n",
    "elif num == 0:\n",
    "    print('zero')\n",
    "else:\n",
    "    print('Negative number')"
   ]
  },
  {
   "cell_type": "code",
   "execution_count": 24,
   "metadata": {},
   "outputs": [
    {
     "name": "stdout",
     "output_type": "stream",
     "text": [
      "Enter a number:  58\n",
      "58 is even\n"
     ]
    }
   ],
   "source": [
    "num = int(input('Enter a number:  '))\n",
    "if (num % 2) == 0:\n",
    "    print ('{0} is even'.format(num))\n",
    "else:\n",
    "    print('{0} is Odd'.format(num))"
   ]
  },
  {
   "cell_type": "code",
   "execution_count": 38,
   "metadata": {},
   "outputs": [
    {
     "name": "stdout",
     "output_type": "stream",
     "text": [
      "1966 is not a leap year\n"
     ]
    }
   ],
   "source": [
    "year = 1966\n",
    "if (year % 4) == 0:\n",
    "    if (year % 100) == 0:\n",
    "        if (year % 400) == 0:\n",
    "            print ('{0} is a leap year'. format(year))\n",
    "        else:\n",
    "            print('{0} is not a leap year'.format(year))\n",
    "    else:\n",
    "        print('{0} is a leap year'. format(year))\n",
    "else:\n",
    "    print('{} is not a leap year'. format(year))"
   ]
  },
  {
   "cell_type": "code",
   "execution_count": 44,
   "metadata": {},
   "outputs": [],
   "source": [
    "import calendar"
   ]
  },
  {
   "cell_type": "code",
   "execution_count": 43,
   "metadata": {},
   "outputs": [
    {
     "ename": "ModuleNotFoundError",
     "evalue": "No module named 'isleep'",
     "output_type": "error",
     "traceback": [
      "\u001b[1;31m---------------------------------------------------------------------------\u001b[0m",
      "\u001b[1;31mModuleNotFoundError\u001b[0m                       Traceback (most recent call last)",
      "\u001b[1;32m<ipython-input-43-7dc81e38fd6a>\u001b[0m in \u001b[0;36m<module>\u001b[1;34m()\u001b[0m\n\u001b[1;32m----> 1\u001b[1;33m \u001b[1;32mimport\u001b[0m \u001b[0misleep\u001b[0m\u001b[1;33m\u001b[0m\u001b[0m\n\u001b[0m",
      "\u001b[1;31mModuleNotFoundError\u001b[0m: No module named 'isleep'"
     ]
    }
   ],
   "source": [
    "import isleep"
   ]
  },
  {
   "cell_type": "code",
   "execution_count": 51,
   "metadata": {},
   "outputs": [],
   "source": [
    "yy = 2014\n",
    "mm = 11"
   ]
  },
  {
   "cell_type": "code",
   "execution_count": 46,
   "metadata": {},
   "outputs": [
    {
     "name": "stdout",
     "output_type": "stream",
     "text": [
      "<module 'calendar' from 'C:\\\\Users\\\\HP\\\\Anaconda3\\\\lib\\\\calendar.py'>\n"
     ]
    }
   ],
   "source": [
    "print(calendar)"
   ]
  },
  {
   "cell_type": "code",
   "execution_count": 52,
   "metadata": {},
   "outputs": [
    {
     "name": "stdout",
     "output_type": "stream",
     "text": [
      "   November 2014\n",
      "Mo Tu We Th Fr Sa Su\n",
      "                1  2\n",
      " 3  4  5  6  7  8  9\n",
      "10 11 12 13 14 15 16\n",
      "17 18 19 20 21 22 23\n",
      "24 25 26 27 28 29 30\n",
      "\n"
     ]
    }
   ],
   "source": [
    "print(calendar.month(yy,mm))"
   ]
  },
  {
   "cell_type": "code",
   "execution_count": 19,
   "metadata": {},
   "outputs": [],
   "source": [
    "lower = 2\n",
    "upper = 20"
   ]
  },
  {
   "cell_type": "code",
   "execution_count": 20,
   "metadata": {},
   "outputs": [
    {
     "name": "stdout",
     "output_type": "stream",
     "text": [
      "prime numbers between 2 and 20 are:\n",
      "3\n",
      "5\n",
      "5\n",
      "5\n",
      "7\n",
      "7\n",
      "7\n",
      "7\n",
      "7\n",
      "9\n",
      "11\n",
      "11\n",
      "11\n",
      "11\n",
      "11\n",
      "11\n",
      "11\n",
      "11\n",
      "11\n",
      "13\n",
      "13\n",
      "13\n",
      "13\n",
      "13\n",
      "13\n",
      "13\n",
      "13\n",
      "13\n",
      "13\n",
      "13\n",
      "15\n",
      "17\n",
      "17\n",
      "17\n",
      "17\n",
      "17\n",
      "17\n",
      "17\n",
      "17\n",
      "17\n",
      "17\n",
      "17\n",
      "17\n",
      "17\n",
      "17\n",
      "17\n",
      "19\n",
      "19\n",
      "19\n",
      "19\n",
      "19\n",
      "19\n",
      "19\n",
      "19\n",
      "19\n",
      "19\n",
      "19\n",
      "19\n",
      "19\n",
      "19\n",
      "19\n",
      "19\n",
      "19\n",
      "21\n"
     ]
    }
   ],
   "source": [
    "print('prime numbers between',lower,'and', upper, 'are:')\n",
    "for num in range (lower,upper + 2):\n",
    "    if num > 1:\n",
    "        for i in range (2,num):\n",
    "            if (num % i) == 0:\n",
    "                break\n",
    "            else:\n",
    "                print(num)"
   ]
  },
  {
   "cell_type": "code",
   "execution_count": 21,
   "metadata": {},
   "outputs": [
    {
     "name": "stdout",
     "output_type": "stream",
     "text": [
      "!* To Find Prime Number\n"
     ]
    }
   ],
   "source": [
    "print('!* To Find Prime Number')\n",
    "def Prime_Number():\n",
    "    flag = 1;\n",
    "    n = input('Enter the number')\n",
    "    for i in range(2,n):\n",
    "        if(n%i == 0):\n",
    "            print('%d is not a prime number' %n)\n",
    "            flag = 0;\n",
    "            break;\n",
    "    if(flag == 1):\n",
    "        print('%d is a prime number' %n)"
   ]
  },
  {
   "cell_type": "code",
   "execution_count": 10,
   "metadata": {},
   "outputs": [
    {
     "name": "stdout",
     "output_type": "stream",
     "text": [
      "1 False\n",
      "2 None\n",
      "3 True\n",
      "4 False\n",
      "5 True\n",
      "6 False\n",
      "7 True\n",
      "8 False\n",
      "9 True\n",
      "10 False\n",
      "11 True\n",
      "12 False\n",
      "13 True\n",
      "14 False\n",
      "15 True\n",
      "16 False\n",
      "17 True\n",
      "18 False\n",
      "19 True\n",
      "20 False\n",
      "21 True\n",
      "22 False\n",
      "23 True\n",
      "24 False\n",
      "25 True\n",
      "26 False\n",
      "27 True\n",
      "28 False\n",
      "29 True\n",
      "30 False\n",
      "31 True\n",
      "32 False\n",
      "33 True\n",
      "34 False\n",
      "35 True\n",
      "36 False\n",
      "37 True\n",
      "38 False\n",
      "39 True\n",
      "40 False\n",
      "41 True\n",
      "42 False\n",
      "43 True\n",
      "44 False\n",
      "45 True\n",
      "46 False\n",
      "47 True\n",
      "48 False\n",
      "49 True\n",
      "50 False\n"
     ]
    }
   ],
   "source": [
    "#Prime number program\n",
    "def is_prime_v1(n):\n",
    "    \"\"\"Return 'True' is 'n' is a prime number. 'False' otherwise.\"\"\"\n",
    "    if n == 1:\n",
    "        return False\n",
    "    for h in range (2,n):\n",
    "        if n % h == 0:\n",
    "            return False\n",
    "        return True\n",
    "for n in range (1,51):\n",
    "    print(n, is_prime_v1(n))"
   ]
  },
  {
   "cell_type": "code",
   "execution_count": 11,
   "metadata": {},
   "outputs": [],
   "source": [
    "import time"
   ]
  },
  {
   "cell_type": "code",
   "execution_count": 17,
   "metadata": {},
   "outputs": [
    {
     "name": "stdout",
     "output_type": "stream",
     "text": [
      "Time required:  5.337966680526733\n"
     ]
    }
   ],
   "source": [
    "t0 = time.time()\n",
    "for n in range (1,10000000):\n",
    "    is_prime_v1(n)\n",
    "t1 = time.time()\n",
    "print(\"Time required: \", t1 - t0)"
   ]
  },
  {
   "cell_type": "code",
   "execution_count": 25,
   "metadata": {},
   "outputs": [],
   "source": [
    "#if else statement\n",
    "\n",
    "abc = 1000"
   ]
  },
  {
   "cell_type": "code",
   "execution_count": 30,
   "metadata": {},
   "outputs": [
    {
     "name": "stdout",
     "output_type": "stream",
     "text": [
      "present\n"
     ]
    }
   ],
   "source": [
    "if abc:\n",
    "    print (\"present\")\n",
    "else:\n",
    "    print (\"absent\")"
   ]
  },
  {
   "cell_type": "code",
   "execution_count": 31,
   "metadata": {},
   "outputs": [
    {
     "name": "stdout",
     "output_type": "stream",
     "text": [
      "1 - Got a true expression value\n",
      "var1\n"
     ]
    }
   ],
   "source": [
    "var1 = 100\n",
    "if var1:\n",
    "   print (\"1 - Got a true expression value\")\n",
    "   print (\"var1\")\n",
    "else:\n",
    "   print (\"1 - Got a false expression value\")\n",
    "   print (\"var1\")"
   ]
  },
  {
   "cell_type": "code",
   "execution_count": 32,
   "metadata": {},
   "outputs": [],
   "source": [
    "#if elif else statement\n",
    "abc1 = 12345"
   ]
  },
  {
   "cell_type": "code",
   "execution_count": 35,
   "metadata": {},
   "outputs": [
    {
     "name": "stdout",
     "output_type": "stream",
     "text": [
      "2point0\n"
     ]
    }
   ],
   "source": [
    "if abc1 == 234:\n",
    "    print ('Kabali')\n",
    "elif abc1 == 8907:\n",
    "    print ('Kaala')\n",
    "else: \n",
    "    abc1 == 12345\n",
    "    print ('2point0')"
   ]
  },
  {
   "cell_type": "code",
   "execution_count": 36,
   "metadata": {},
   "outputs": [
    {
     "name": "stdout",
     "output_type": "stream",
     "text": [
      "Good Bye S A R K A R\n"
     ]
    }
   ],
   "source": [
    "print ('Good Bye S A R K A R')"
   ]
  },
  {
   "cell_type": "code",
   "execution_count": 42,
   "metadata": {},
   "outputs": [
    {
     "name": "stdout",
     "output_type": "stream",
     "text": [
      "Correct\n"
     ]
    }
   ],
   "source": [
    "var = 1000\n",
    "if (var == 1000): print (\"Correct\")"
   ]
  },
  {
   "cell_type": "code",
   "execution_count": 47,
   "metadata": {},
   "outputs": [
    {
     "name": "stdout",
     "output_type": "stream",
     "text": [
      "Alphabetic : P\n",
      "Alphabetic : y\n",
      "Alphabetic : t\n",
      "Alphabetic : h\n",
      "Alphabetic : o\n",
      "Alphabetic : n\n"
     ]
    }
   ],
   "source": [
    "#for loop statement (each iteration)\n",
    "for letter in 'Python':\n",
    "    print ('Alphabetic :', letter)"
   ]
  },
  {
   "cell_type": "code",
   "execution_count": 49,
   "metadata": {},
   "outputs": [],
   "source": [
    "Transports = ['Cycle','Bike','Car','Bus','Train','Flight']"
   ]
  },
  {
   "cell_type": "code",
   "execution_count": 51,
   "metadata": {},
   "outputs": [
    {
     "name": "stdout",
     "output_type": "stream",
     "text": [
      "Current Transport : Cycle\n",
      "Current Transport : Bike\n",
      "Current Transport : Car\n",
      "Current Transport : Bus\n",
      "Current Transport : Train\n",
      "Current Transport : Flight\n"
     ]
    }
   ],
   "source": [
    "for Transport in Transports:\n",
    "    print ('Current Transport :', Transport)"
   ]
  },
  {
   "cell_type": "code",
   "execution_count": 52,
   "metadata": {},
   "outputs": [
    {
     "data": {
      "text/plain": [
       "10"
      ]
     },
     "execution_count": 52,
     "metadata": {},
     "output_type": "execute_result"
    }
   ],
   "source": [
    "len('Transports')"
   ]
  },
  {
   "cell_type": "code",
   "execution_count": 53,
   "metadata": {},
   "outputs": [
    {
     "data": {
      "text/plain": [
       "str"
      ]
     },
     "execution_count": 53,
     "metadata": {},
     "output_type": "execute_result"
    }
   ],
   "source": [
    "type('Transports')"
   ]
  },
  {
   "cell_type": "code",
   "execution_count": 55,
   "metadata": {},
   "outputs": [
    {
     "data": {
      "text/plain": [
       "'Transports'"
      ]
     },
     "execution_count": 55,
     "metadata": {},
     "output_type": "execute_result"
    }
   ],
   "source": [
    "str('Transports')"
   ]
  },
  {
   "cell_type": "code",
   "execution_count": 61,
   "metadata": {},
   "outputs": [
    {
     "name": "stdout",
     "output_type": "stream",
     "text": [
      "rvs_ten\n"
     ]
    }
   ],
   "source": [
    "def rvs_ten(x):\n",
    "    return x + 10\n",
    "print('rvs_ten')"
   ]
  },
  {
   "cell_type": "code",
   "execution_count": null,
   "metadata": {},
   "outputs": [],
   "source": [
    "number = 0\n",
    "while (number < 999):\n",
    "    print ('The count is:', number)\n",
    "    number = number + 1"
   ]
  },
  {
   "cell_type": "code",
   "execution_count": null,
   "metadata": {},
   "outputs": [],
   "source": []
  }
 ],
 "metadata": {
  "kernelspec": {
   "display_name": "Python 3",
   "language": "python",
   "name": "python3"
  },
  "language_info": {
   "codemirror_mode": {
    "name": "ipython",
    "version": 3
   },
   "file_extension": ".py",
   "mimetype": "text/x-python",
   "name": "python",
   "nbconvert_exporter": "python",
   "pygments_lexer": "ipython3",
   "version": "3.7.0"
  }
 },
 "nbformat": 4,
 "nbformat_minor": 2
}
